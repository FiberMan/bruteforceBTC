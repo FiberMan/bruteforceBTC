{
    "cells": [
        {
            "cell_type": "code",
            "execution_count": 2,
            "metadata": {},
            "outputs": [],
            "source": [
                "# Enable auto-reload of modified modules\n",
                "%reload_ext autoreload\n",
                "%autoreload 2\n",
                "\n",
                "from functions import *\n",
                "import binascii\n",
                "import os\n"
            ]
        },
        {
            "cell_type": "code",
            "execution_count": 3,
            "metadata": {},
            "outputs": [],
            "source": [
                "# Show all info for private key\n",
                "def showPrivKeyInfo(priv_key):\n",
                "    priv_key_byte = binascii.unhexlify(priv_key)\n",
                "    print('priv_key hex: ', priv_key)\n",
                "    print('priv_key WIF uncompressed: ', getWIF(priv_key_byte))\n",
                "    print('priv_key WIF compressed  : ', getWIF(priv_key_byte, compressed=True))\n",
                "\n",
                "    publ_key_hex = getPubKey(priv_key_byte)\n",
                "    print(\"Public key: \", publ_key_hex.hex())\n",
                "\n",
                "    # get public key, uncompressed\n",
                "    publ_key = getPubKeyFullUncompressed(publ_key_hex)\n",
                "    print('Full public key uncompressed: ', publ_key.hex())\n",
                "    print('Address uncompressed: ', getAddress(getPubKeyHashed(publ_key)))\n",
                "\n",
                "    # get public key, compressed\n",
                "    publ_key = getPubKeyFullCompressed(publ_key_hex)\n",
                "    print('Full public key compressed  : ', publ_key.hex())\n",
                "    print('Address compressed:   ', getAddress(getPubKeyHashed(publ_key)))"
            ]
        },
        {
            "cell_type": "code",
            "execution_count": 8,
            "metadata": {},
            "outputs": [
                {
                    "name": "stdout",
                    "output_type": "stream",
                    "text": [
                        "priv_key hex:  60cf347dbc59d31c1358c8e5cf5e45b822ab85b79cb32a9f3d98184779a9efc2\n",
                        "priv_key WIF uncompressed:  5JYvSurww2jTxmCeoN8T9QgRMWp45rre7WgFS76ae6Rgd1BnkC6\n",
                        "priv_key WIF compressed  :  KzTtuNKTTUeS186RqeFtQ7WzVYagcT46ojzEhoudUiwwsWtvokhD\n",
                        "Public key:  1e7bcc70c72770dbb72fea022e8a6d07f814d2ebe4de9ae3f7af75bf706902a7b73ff919898c836396a6b0c96812c3213b99372050853bd1678da0ead14487d7\n",
                        "Full public key uncompressed:  041e7bcc70c72770dbb72fea022e8a6d07f814d2ebe4de9ae3f7af75bf706902a7b73ff919898c836396a6b0c96812c3213b99372050853bd1678da0ead14487d7\n",
                        "Address uncompressed:  18CJdksq7eVGnENaackZDpMb4rgbc9YR7y\n",
                        "Full public key compressed  :  031e7bcc70c72770dbb72fea022e8a6d07f814d2ebe4de9ae3f7af75bf706902a7\n",
                        "Address compressed:    17JsmEygbbEUEpvt4PFtYaTeSqfb9ki1F1\n"
                    ]
                }
            ],
            "source": [
                "# priv_key = os.urandom(32).hex()\n",
                "priv_key = '60cf347dbc59d31c1358c8e5cf5e45b822ab85b79cb32a9f3d98184779a9efc2'\n",
                "\n",
                "showPrivKeyInfo(priv_key)"
            ]
        },
        {
            "cell_type": "code",
            "execution_count": 5,
            "metadata": {},
            "outputs": [
                {
                    "name": "stdout",
                    "output_type": "stream",
                    "text": [
                        "--------------------------------------\n",
                        "Bitcoin Address:  18CJdksq7eVGnENaackZDpMb4rgbc9YR7y\n",
                        "Base58 decoded:   004eec2d0c073f190c3ba671e2f9ce79574604fdcda22b6a2c\n",
                        "\tPrefix:    00\n",
                        "\tHash:      4eec2d0c073f190c3ba671e2f9ce79574604fdcd\n",
                        "\tChecksum:  a22b6a2c\n",
                        "--------------------------------------\n",
                        "Hash# 1  :  c31122682c264174e78440fc691827dd1f49d997b65252422913ddd2b9237558\n",
                        "Hash# 2  :  a22b6a2ca0ecc450ea2bed270f192a01170f216d17f982766c355f69efd10533\n",
                        "--------------------------------------\n",
                        "[TRUE]  checksum is valid!\n"
                    ]
                }
            ],
            "source": [
                "validateAddress('18CJdksq7eVGnENaackZDpMb4rgbc9YR7y')"
            ]
        }
    ],
    "metadata": {
        "interpreter": {
            "hash": "283a6da69af0ed0a11bf57b9c3087ce908f589d2deaa37b1e28375c01cb0b00d"
        },
        "kernelspec": {
            "display_name": "Python 3.9.2 64-bit",
            "name": "python3"
        },
        "language_info": {
            "codemirror_mode": {
                "name": "ipython",
                "version": 3
            },
            "file_extension": ".py",
            "mimetype": "text/x-python",
            "name": "python",
            "nbconvert_exporter": "python",
            "pygments_lexer": "ipython3",
            "version": "3.9.2"
        },
        "orig_nbformat": 4
    },
    "nbformat": 4,
    "nbformat_minor": 2
}
