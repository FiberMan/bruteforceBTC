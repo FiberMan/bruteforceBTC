{
    "cells": [
        {
            "cell_type": "code",
            "execution_count": 30,
            "metadata": {},
            "outputs": [],
            "source": [
                "# Enable auto-reload of modified modules\n",
                "%reload_ext autoreload\n",
                "%autoreload 2\n",
                "\n",
                "from functions import *\n",
                "import os\n"
            ]
        },
        {
            "cell_type": "code",
            "execution_count": 33,
            "metadata": {},
            "outputs": [],
            "source": [
                "# Show all info for private key\n",
                "def showPrivKeyInfo(priv_key):\n",
                "    priv_key_byte = bytes.fromhex(priv_key)\n",
                "    print('priv_key hex: ', priv_key)\n",
                "    print('priv_key WIF uncompressed: ', getWIF(priv_key_byte))\n",
                "    print('priv_key WIF compressed  : ', getWIF(priv_key_byte, compressed=True))\n",
                "\n",
                "    publ_key_hex = getPubKey(priv_key_byte)\n",
                "    print(\"Public key: \", publ_key_hex.hex())\n",
                "\n",
                "    # get public key, uncompressed\n",
                "    publ_key = getPubKeyFullUncompressed(publ_key_hex)\n",
                "    print('Full public key uncompressed: ', publ_key.hex())\n",
                "    print('Address uncompressed: ', getAddress(getPubKeyHashed(publ_key)))\n",
                "\n",
                "    # get public key, compressed\n",
                "    publ_key = getPubKeyFullCompressed(publ_key_hex)\n",
                "    print('Full public key compressed  : ', publ_key.hex())\n",
                "    print('Address compressed:   ', getAddress(getPubKeyHashed(publ_key)))"
            ]
        },
        {
            "cell_type": "code",
            "execution_count": 34,
            "metadata": {},
            "outputs": [
                {
                    "name": "stdout",
                    "output_type": "stream",
                    "text": [
                        "priv_key hex:  60cf347dbc59d31c1358c8e5cf5e45b822ab85b79cb32a9f3d98184779a9efc2\n",
                        "priv_key WIF uncompressed:  5JYvSurww2jTxmCeoN8T9QgRMWp45rre7WgFS76ae6Rgd1BnkC6\n",
                        "priv_key WIF compressed  :  KzTtuNKTTUeS186RqeFtQ7WzVYagcT46ojzEhoudUiwwsWtvokhD\n",
                        "Public key:  1e7bcc70c72770dbb72fea022e8a6d07f814d2ebe4de9ae3f7af75bf706902a7b73ff919898c836396a6b0c96812c3213b99372050853bd1678da0ead14487d7\n",
                        "Full public key uncompressed:  041e7bcc70c72770dbb72fea022e8a6d07f814d2ebe4de9ae3f7af75bf706902a7b73ff919898c836396a6b0c96812c3213b99372050853bd1678da0ead14487d7\n",
                        "Address uncompressed:  18CJdksq7eVGnENaackZDpMb4rgbc9YR7y\n",
                        "Full public key compressed  :  031e7bcc70c72770dbb72fea022e8a6d07f814d2ebe4de9ae3f7af75bf706902a7\n",
                        "Address compressed:    17JsmEygbbEUEpvt4PFtYaTeSqfb9ki1F1\n"
                    ]
                }
            ],
            "source": [
                "# priv_key = os.urandom(32).hex()\n",
                "priv_key = '60cf347dbc59d31c1358c8e5cf5e45b822ab85b79cb32a9f3d98184779a9efc2'\n",
                "\n",
                "showPrivKeyInfo(priv_key)"
            ]
        },
        {
            "cell_type": "code",
            "execution_count": 35,
            "metadata": {},
            "outputs": [
                {
                    "name": "stdout",
                    "output_type": "stream",
                    "text": [
                        "--------------------------------------\n",
                        "Bitcoin Address:  18CJdksq7eVGnENaackZDpMb4rgbc9YR7y\n",
                        "Base58 decoded:   004eec2d0c073f190c3ba671e2f9ce79574604fdcda22b6a2c\n",
                        "\tPrefix:    00\n",
                        "\tHash:      4eec2d0c073f190c3ba671e2f9ce79574604fdcd\n",
                        "\tChecksum:  a22b6a2c\n",
                        "--------------------------------------\n",
                        "Hash# 1  :  c31122682c264174e78440fc691827dd1f49d997b65252422913ddd2b9237558\n",
                        "Hash# 2  :  a22b6a2ca0ecc450ea2bed270f192a01170f216d17f982766c355f69efd10533\n",
                        "--------------------------------------\n",
                        "[TRUE]  checksum is valid!\n"
                    ]
                }
            ],
            "source": [
                "validateAddress('18CJdksq7eVGnENaackZDpMb4rgbc9YR7y')"
            ]
        },
        {
            "cell_type": "code",
            "execution_count": 21,
            "metadata": {},
            "outputs": [
                {
                    "name": "stdout",
                    "output_type": "stream",
                    "text": [
                        "40344866 total funded addresses. 4149271 P2PKH addresses with balance >= 0.01 BTC (10749349.14240564 BTC)\n"
                    ]
                }
            ],
            "source": [
                "# Parse addresses from http://addresses.loyce.club/\n",
                "\n",
                "import csv\n",
                "\n",
                "tsv_file = open(\"blockchair_bitcoin_addresses_and_balance_LATEST.tsv\")\n",
                "out_file = open(\"addresses_new.txt\", 'a')\n",
                "min_balance = 1000000 # in satoshis. 1 BTC = 100000000 satoshi.\n",
                "\n",
                "read_tsv = csv.reader(tsv_file, delimiter=\"\\t\")\n",
                "i = 0\n",
                "c = 0\n",
                "t = 0\n",
                "for row in read_tsv:\n",
                "    if i > 0 and row[0][0] == '1' and int(row[1]) >= min_balance:\n",
                "        out_file.write(row[0]+'\\n')\n",
                "        c = c + 1\n",
                "        t = t + int(row[1])\n",
                "    i = i + 1\n",
                "tsv_file.close()\n",
                "out_file.close()\n",
                "print(\"%s total funded addresses. %s P2PKH addresses with balance >= %s BTC (%s BTC)\" % (i, c, min_balance/100000000, t/100000000))"
            ]
        },
        {
            "cell_type": "code",
            "execution_count": 29,
            "metadata": {},
            "outputs": [
                {
                    "name": "stdout",
                    "output_type": "stream",
                    "text": [
                        "[timeit] 100 loops, 0.120254 sec                  ecdsa\n",
                        "[timeit] 100 loops, 0.476535 sec                  starkbank-ecdsa\n",
                        "[timeit] 100 loops, 0.0078916 sec                 coincurve\n"
                    ]
                }
            ],
            "source": [
                "# Compare speed of different ECDSA libraries\n",
                "import timeit\n",
                "\n",
                "loops = 100\n",
                "\n",
                "# https://github.com/tlsfuzzer/python-ecdsa\n",
                "test_name = 'ecdsa'\n",
                "setup = 'import ecdsa, binascii'\n",
                "stmt  = 'secret = \"60cf347dbc59d31c1358c8e5cf5e45b822ab85b79cb32a9f3d98184779a9efc2\"; ecdsa.SigningKey.from_string(bytes.fromhex(secret), curve=ecdsa.SECP256k1).get_verifying_key().to_string().hex();'\n",
                "print('[timeit] {0} loops, {1:.6} sec '.format( loops, timeit.timeit(stmt, setup, number=loops) ).ljust(50,' ') + test_name )\n",
                "\n",
                "# https://github.com/starkbank/ecdsa-python\n",
                "test_name = 'starkbank-ecdsa'\n",
                "setup = 'from ellipticcurve.privateKey import PrivateKey'\n",
                "stmt  = 'secret = \"60cf347dbc59d31c1358c8e5cf5e45b822ab85b79cb32a9f3d98184779a9efc2\"; PrivateKey.fromString(secret).publicKey().toString();'\n",
                "print('[timeit] {0} loops, {1:.6} sec '.format( loops, timeit.timeit(stmt, setup, number=loops) ).ljust(50,' ') + test_name )\n",
                "\n",
                "# https://github.com/ofek/coincurve\n",
                "test_name = 'coincurve'\n",
                "setup = 'from coincurve.keys import PrivateKey, PublicKey;'\n",
                "stmt  = 'secret = \"60cf347dbc59d31c1358c8e5cf5e45b822ab85b79cb32a9f3d98184779a9efc2\"; PublicKey.from_valid_secret(bytes.fromhex(secret)).point();'\n",
                "print('[timeit] {0} loops, {1:.6} sec '.format( loops, timeit.timeit(stmt, setup, number=loops) ).ljust(50,' ') + test_name )"
            ]
        }
    ],
    "metadata": {
        "interpreter": {
            "hash": "283a6da69af0ed0a11bf57b9c3087ce908f589d2deaa37b1e28375c01cb0b00d"
        },
        "kernelspec": {
            "display_name": "Python 3.9.2 64-bit",
            "name": "python3"
        },
        "language_info": {
            "codemirror_mode": {
                "name": "ipython",
                "version": 3
            },
            "file_extension": ".py",
            "mimetype": "text/x-python",
            "name": "python",
            "nbconvert_exporter": "python",
            "pygments_lexer": "ipython3",
            "version": "3.9.2"
        },
        "orig_nbformat": 4
    },
    "nbformat": 4,
    "nbformat_minor": 2
}
